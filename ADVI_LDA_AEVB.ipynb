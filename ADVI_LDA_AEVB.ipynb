{
 "cells": [
  {
   "cell_type": "markdown",
   "metadata": {},
   "source": [
    "# Advanced PyMC3: What the heck is ADVI?\n",
    "![PyMC3][logo]\n",
    "[logo]: https://raw.githubusercontent.com/pymc-devs/pymc3/master/docs/pymc3_logo.jpg \"Logo\"\n",
    "\n",
    "Peadar Coyle - Contributor"
   ]
  },
  {
   "cell_type": "markdown",
   "metadata": {},
   "source": [
    "## Why Variational inference? \n",
    "* Scaling probabilistic modelling to increasingly complex problems on increasingly large datasets. \n",
    "\n",
    "**PyMC3**: Variational inference: ADVI for fast approximate posterior estimation as well as mini-batch ADVI for large data sets.\n",
    "\n",
    "**Uses** \n",
    "* Large scale topic models (LDA, Hierarchical Dirichlet Process)\n",
    "* Semi-supervised classification\n",
    "* Generative models of images (used in Deep Learning work)\n"
   ]
  },
  {
   "cell_type": "markdown",
   "metadata": {},
   "source": [
    "**Limitations**\n",
    "* One limitation: Variational Inference requires that intractable distributions be approximated by a class of known probability distributions. \n",
    "\n",
    "**Objection**\n",
    "Unlike MCMC, even in the asymptotic regime we are unable to recover the true posterior distribution.\n",
    "*There are solutions* \n",
    "We can use a method called **normalized flows** - this is out of the scope of this talk. There is work being done on this in PyMC3.\n",
    "\n",
    "The normalized flows are discussed in another notebook, so you can look at it there. \n",
    "\n",
    "**We'll assume that these limitations don't apply to our case** \n",
    "\n",
    "This will offend various statisticians - and is something worth discussing. "
   ]
  },
  {
   "cell_type": "code",
   "execution_count": 1,
   "metadata": {
    "collapsed": false
   },
   "outputs": [],
   "source": [
    "\n",
    "%matplotlib inline\n",
    "import sys, os\n",
    "sys.path.insert(0, os.path.expanduser('~/Code/Advanced_PyMC3_Talk'))\n",
    "\n",
    "from matplotlib import pyplot as plt\n",
    "from matplotlib.animation import ArtistAnimation\n",
    "from matplotlib.patches import Ellipse\n",
    "from collections import OrderedDict\n",
    "from copy import deepcopy\n",
    "import numpy as np\n",
    "from time import time\n",
    "from sklearn.feature_extraction.text import TfidfVectorizer, CountVectorizer\n",
    "from sklearn.datasets import fetch_20newsgroups\n",
    "import matplotlib.pyplot as plt\n",
    "import seaborn as sns\n",
    "import theano\n",
    "from theano import shared\n",
    "import theano.tensor as tt\n",
    "from theano.sandbox.rng_mrg import MRG_RandomStreams\n",
    "\n",
    "import pymc3 as pm\n",
    "from pymc3 import Dirichlet\n",
    "from pymc3.distributions.transforms import t_stick_breaking\n",
    "from pymc3.variational.advi import advi, sample_vp\n",
    "\n",
    "theano.config.compute_test_value = 'ignore'"
   ]
  },
  {
   "cell_type": "code",
   "execution_count": 2,
   "metadata": {
    "collapsed": false
   },
   "outputs": [],
   "source": [
    "# configure pyplot for readability when rendered as a slideshow and projected\n",
    "plt.rc('figure', figsize=(8, 6))\n",
    "\n",
    "LABELSIZE = 14\n",
    "plt.rc('axes', labelsize=LABELSIZE)\n",
    "plt.rc('axes', titlesize=LABELSIZE)\n",
    "plt.rc('figure', titlesize=LABELSIZE)\n",
    "plt.rc('legend', fontsize=LABELSIZE)\n",
    "plt.rc('xtick', labelsize=LABELSIZE)\n",
    "plt.rc('ytick', labelsize=LABELSIZE)\n",
    "\n",
    "plt.rc('animation', writer='avconv')"
   ]
  },
  {
   "cell_type": "code",
   "execution_count": 3,
   "metadata": {
    "collapsed": false
   },
   "outputs": [],
   "source": [
    "blue, green, red, purple, gold, teal = sns.color_palette()\n",
    "\n"
   ]
  },
  {
   "cell_type": "markdown",
   "metadata": {},
   "source": [
    "The posterior distribution is equal to the joint distribution divided by the marginal distribution of the evidence.\n",
    "$$\\color{red}{P(\\theta\\ |\\ \\mathcal{D})}\n",
    "    = \\frac{\\color{blue}{P(\\mathcal{D}\\ |\\ \\theta)\\ P(\\theta)}}{\\color{green}{P(\\mathcal{D})}}\n",
    "    = \\frac{\\color{blue}{P(\\mathcal{D}, \\theta)}}{\\color{green}{\\int P(\\mathcal{D}\\ |\\ \\theta)\\ P(\\theta)\\ d\\theta}}$$\n",
    "For many useful models the marginal distribution of the evidence is hard or impossible to calculate analytically.\n",
    "\n"
   ]
  },
  {
   "cell_type": "markdown",
   "metadata": {},
   "source": [
    "### Variational Inference\n",
    "* Choose a class of approximating distributions\n",
    "* Find the best approximation to the true posterior\n",
    "\n",
    "Variational inference minimizes the [Kullback-Leibler divergence](https://en.wikipedia.org/wiki/Kullback%E2%80%93Leibler_divergence)\n",
    "\n",
    "$$\\mathbb{KL}(\\color{purple}{q(\\theta)} \\parallel \\color{red}{p(\\theta\\ |\\ \\mathcal{D})}) = \\mathbb{E}_q\\left(\\log\\left(\\frac{\\color{purple}{q(\\theta)}}{\\color{red}{p(\\theta\\ |\\ \\mathcal{D})}}\\right)\\right)$$\n",
    "\n",
    "from approximate distributons, but we can't calculate the true posterior distribution.\n",
    "\n",
    "Minimizing the Kullback-Leibler divergence\n",
    "$$\\mathbb{KL}(\\color{purple}{q(\\theta)} \\parallel \\color{red}{p(\\theta\\ |\\ \\mathcal{D})}) = -(\\underbrace{\\mathbb{E}_q(\\log \\color{blue}{p(\\mathcal{D}, \\theta))} - \\mathbb{E}_q(\\color{purple}{\\log q(\\theta)})}_{\\color{orange}{\\textrm{ELBO}}}) + \\log \\color{green}{p(\\mathcal{D})}$$\n",
    "is equivalent to maximizing the Evidence Lower BOund (ELBO), which only requires calculating the joint distribution."
   ]
  },
  {
   "cell_type": "markdown",
   "metadata": {},
   "source": [
    "## Example of Variational Inference\n",
    "In this example, we minimize the Kullback-Leibler divergence between a full-rank covariance Gaussian distribution and a diagonal covariance Gaussian distribution.\n",
    "\n",
    "* Thanks to Austin Rochford and Taku Yoshioka for these examples\n"
   ]
  },
  {
   "cell_type": "code",
   "execution_count": 4,
   "metadata": {
    "collapsed": true
   },
   "outputs": [],
   "source": [
    "SIGMA_X = 1.\n",
    "SIGMA_Y = np.sqrt(0.5)\n",
    "CORR_COEF = 0.75\n",
    "\n",
    "true_cov = np.array([[SIGMA_X**2, CORR_COEF * SIGMA_X * SIGMA_Y],\n",
    "                     [CORR_COEF * SIGMA_X * SIGMA_Y, SIGMA_Y**2]])\n",
    "true_precision = np.linalg.inv(true_cov)\n",
    "\n",
    "approx_sigma_x, approx_sigma_y = 1. / np.sqrt(np.diag(true_precision))"
   ]
  },
  {
   "cell_type": "code",
   "execution_count": 5,
   "metadata": {
    "collapsed": false
   },
   "outputs": [
    {
     "data": {
      "image/png": "[encoded data removed]",
      "text/plain": [
       "<matplotlib.figure.Figure at 0x1110fb080>"
      ]
     },
     "metadata": {},
     "output_type": "display_data"
    }
   ],
   "source": [
    "fig, ax  = plt.subplots(figsize=(8, 8))\n",
    "ax.set_aspect('equal');\n",
    "\n",
    "\n",
    "var, U = np.linalg.eig(true_cov)\n",
    "angle = 180. / np.pi * np.arccos(np.abs(U[0, 0]))\n",
    "\n",
    "e = Ellipse(np.zeros(2), 2 * np.sqrt(5.991 * var[0]), 2 * np.sqrt(5.991 * var[1]), angle=angle)\n",
    "e.set_alpha(0.5)\n",
    "e.set_facecolor(blue)\n",
    "e.set_zorder(10);\n",
    "ax.add_artist(e);\n",
    "\n",
    "ax.set_xlim(-3, 3);\n",
    "ax.set_xticklabels([]);\n",
    "\n",
    "ax.set_ylim(-3, 3);\n",
    "ax.set_yticklabels([]);\n",
    "\n",
    "rect = plt.Rectangle((0, 0), 1, 1, fc=blue, alpha=0.5)\n",
    "ax.legend([rect],\n",
    "          ['True distribution'],\n",
    "          bbox_to_anchor=(1.5, 1.));"
   ]
  },
  {
   "cell_type": "code",
   "execution_count": 6,
   "metadata": {
    "collapsed": false
   },
   "outputs": [
    {
     "data": {
      "image/png": "[encoded data removed]",
      "text/plain": [
       "<matplotlib.figure.Figure at 0x1110fb080>"
      ]
     },
     "execution_count": 6,
     "metadata": {},
     "output_type": "execute_result"
    }
   ],
   "source": [
    "fig"
   ]
  },
  {
   "cell_type": "markdown",
   "metadata": {},
   "source": [
    "Approximate the true distribution using a diagonal covariance Gaussian from the class\n",
    "$$\\mathcal{Q} = \\left\\{\\left.N\\left(\\begin{pmatrix} \\mu_x \\\\ \\mu_y \\end{pmatrix},\n",
    "                              \\begin{pmatrix} \\sigma_x^2 & 0 \\\\ 0 & \\sigma_y^2\\end{pmatrix}\\ \\right|\\ \n",
    "                       \\mu_x, \\mu_y \\in \\mathbb{R}^2, \\sigma_x, \\sigma_y > 0\\right)\\right\\}$$"
   ]
  },
  {
   "cell_type": "code",
   "execution_count": 7,
   "metadata": {
    "collapsed": true
   },
   "outputs": [],
   "source": [
    "vi_e = Ellipse(np.zeros(2), 2 * np.sqrt(5.991) * approx_sigma_x, 2 * np.sqrt(5.991) * approx_sigma_y)\n",
    "vi_e.set_alpha(0.4)\n",
    "vi_e.set_facecolor(red)\n",
    "vi_e.set_zorder(11);\n",
    "ax.add_artist(vi_e);\n",
    "\n",
    "vi_rect = plt.Rectangle((0, 0), 1, 1, fc=red, alpha=0.75)\n",
    "\n",
    "ax.legend([rect, vi_rect],\n",
    "          ['Posterior distribution',\n",
    "           'Variational approximation'],\n",
    "          bbox_to_anchor=(1.55, 1.));"
   ]
  },
  {
   "cell_type": "code",
   "execution_count": 8,
   "metadata": {
    "collapsed": false
   },
   "outputs": [
    {
     "data": {
      "image/png": "[encoded data removed]",
      "text/plain": [
       "<matplotlib.figure.Figure at 0x1110fb080>"
      ]
     },
     "execution_count": 8,
     "metadata": {},
     "output_type": "execute_result"
    }
   ],
   "source": [
    "fig"
   ]
  },
  {
   "cell_type": "markdown",
   "metadata": {},
   "source": [
    "### Pros ###\n",
    "- A principled method to trade complexity for bias\n",
    "- Optimization theory is applicable\n",
    "- Assesment of convergence\n",
    "- Scalability\n",
    "\n",
    "### Cons###\n",
    "- Biased estimate of the true posterior\n",
    "- Better for prediction than interpretation\n",
    "- Model-specific algorithms"
   ]
  },
  {
   "cell_type": "markdown",
   "metadata": {},
   "source": [
    "### Mean field Variational Inference\n",
    "Assume the variational distribution factors independently as $q(\\theta_1, \\ldots, \\theta_n) = q(\\theta_1) \\cdots q(\\theta_n)$\n",
    "\n",
    "The variational approximation can be found by *coordinate ascent*\n",
    "$$\\begin{align*}\n",
    "q(\\theta_i)\n",
    "    & \\propto \\exp\\left(\\mathbb{E}_{q_{-i}}(\\log(\\mathcal{D}, \\boldsymbol{\\theta}))\\right) \\\\\n",
    "q_{-i}(\\boldsymbol{\\theta})\n",
    "    & = q(\\theta_1) \\cdots q(\\theta_{i - 1})\\ q(\\theta_{i + 1}) \\cdots q(\\theta_n)\n",
    "\\end{align*}$$\n",
    "\n",
    "#### Coordinate Ascent Cons\n",
    "- Calculations are tedious, even when possible\n",
    "- Convergence is slow when the number of parameters is large\n",
    "\n",
    "### Variational Inference in Python\n",
    "- Maximize ELBO using gradient ascent instead of coordinate ascent\n",
    "- Tensor libraries calculate ELBO gradients automatically\n",
    "- In Edward you can get BBVI\n",
    "- In PyMC3 we have ADVI"
   ]
  },
  {
   "cell_type": "markdown",
   "metadata": {},
   "source": [
    "#### Mathematical details\n",
    "\n",
    "* Monte Carlo estimate of the ELBO gradient\n",
    "    * For samples $\\tilde{\\theta}_1, \\ldots, \\tilde{\\theta}_K \\sim q(\\theta)$\n",
    "\n",
    "    $$\n",
    "    \\begin{align*}\n",
    "    \\nabla \\textrm{ELBO}\n",
    "        & = \\mathbb{E}_q \\left(\\nabla\\left(\\log p(\\mathcal{D}, \\theta) - \\log q(\\theta)\\right)\\right) \\\\\n",
    "        & \\approx \\frac{1}{K} \\sum_{i = 1}^K \\nabla\\left(\\log p(\\mathcal{D}, \\tilde{\\theta}_i) - \\log q(\\tilde{\\theta}_i)\\right)\n",
    "    \\end{align*}\n",
    "    $$\n",
    "\n",
    "* Minibatch estimate of joint distribution\n",
    "    * Sample data points $\\mathbf{x}_1, \\ldots, \\mathbf{x}_B$ from $\\mathcal{D}$\n",
    "\n",
    "    $$\\log p(\\mathcal{D}, \\theta) \\approx \\frac{N}{B} \\sum_{i = 1}^B \\log(\\mathbf{x}_i, \\theta)$$\n",
    "\n",
    "BBVI and ADVI arise from different ways of calculating $\\nabla \\left(\\log p(\\mathcal{D}, \\cdot) - \\log q(\\cdot)\\right)$"
   ]
  },
  {
   "cell_type": "markdown",
   "metadata": {},
   "source": [
    "### Automatic Differentiation Variational Inference (ADVI)\n",
    "\n",
    "* Only applicable to differentiable probability models\n",
    "* Transform constrained parameters to be unconstrained\n",
    "* Approximate the posterior for unconstrained parameters with mean field Gaussian"
   ]
  },
  {
   "cell_type": "markdown",
   "metadata": {},
   "source": [
    "### LDA and AEVB\n",
    "Taku Yoshioka example\n",
    "\n",
    "#### Problem\n",
    "Let us consider the problem of probabilistic models with latent variables (topic models are a great example), for **Big DATA**\n",
    "\n",
    "* One solution is autoencoding variational Bayes (AEVB; Kingma and Welling 2014).\n",
    "\n",
    "\n"
   ]
  },
  {
   "cell_type": "markdown",
   "metadata": {},
   "source": [
    "- In AEVB, the encoder is used to infer variational parameters of approximate posterior on latent variables from given samples. By using tunable and flexible encoders such as multilayer perceptrons (MLPs), AEVB approximates complex variational posterior based on mean-field approximation, which does not utilize analytic representations of the true posterior.\n",
    "- Combining AEVB with ADVI (Kucukelbir et al., 2016), we can perform posterior inference on almost arbitrary probabilistic models involving continuous latent variables.\n",
    "\n",
    "It is worth highlighting that there's been a lot of development in the Deep Learning community on encoders. \n",
    "\n",
    "- In the LDA model, each document is assumed to be generated from a multinomial distribution, whose parameters are treated as latent variables. By using AEVB with an MLP as an encoder, we will fit the LDA model to the 20-newsgroups dataset.\n",
    "\n",
    "- In this example, extracted topics by AEVB seem to be qualitatively comparable to those with a standard LDA implementation, i.e., online VB implemented on scikit-learn. Unfortunately, the predictive accuracy of unseen words is less than the standard implementation of LDA, it might be due to the mean-field approximation. \n",
    "\n",
    "- One solution is the work on **normalized flows** which is currently WIP for PyMC3\n",
    "\n",
    "However, the combination of AEVB and ADVI allows us to quickly apply more complex probabilistic models than LDA to big data with the help of mini-batches. \n"
   ]
  },
  {
   "cell_type": "markdown",
   "metadata": {},
   "source": [
    "### Dataset\n",
    "Here, we will use the 20-newsgroups dataset. This dataset can be obtained by using functions of scikit-learn. The below code is partially adopted from an example of scikit-learn (http://scikit-learn.org/stable/auto_examples/applications/topics_extraction_with_nmf_lda.html). We set the number of words in the vocabulary to 2000."
   ]
  },
  {
   "cell_type": "code",
   "execution_count": 9,
   "metadata": {
    "collapsed": false
   },
   "outputs": [
    {
     "name": "stdout",
     "output_type": "stream",
     "text": [
      "Loading dataset...\n",
      "done in 1.960s.\n",
      "Extracting tf features for LDA...\n",
      "done in 2.159s.\n"
     ]
    }
   ],
   "source": [
    "\n",
    "# The number of words in the vocabulary\n",
    "n_words = 2000\n",
    "\n",
    "print(\"Loading dataset...\")\n",
    "t0 = time()\n",
    "dataset = fetch_20newsgroups(shuffle=True, random_state=1,\n",
    "                             remove=('headers', 'footers', 'quotes'))\n",
    "data_samples = dataset.data\n",
    "print(\"done in %0.3fs.\" % (time() - t0))\n",
    "\n",
    "# Use tf (raw term count) features for LDA.\n",
    "print(\"Extracting tf features for LDA...\")\n",
    "tf_vectorizer = CountVectorizer(max_df=0.95, min_df=2, max_features=n_words,\n",
    "                                stop_words='english')\n",
    "\n",
    "t0 = time()\n",
    "tf = tf_vectorizer.fit_transform(data_samples)\n",
    "feature_names = tf_vectorizer.get_feature_names()\n",
    "print(\"done in %0.3fs.\" % (time() - t0))"
   ]
  },
  {
   "cell_type": "markdown",
   "metadata": {},
   "source": [
    "Each document is represented by 2000-dimensional term-frequency vector. Let’s check the data."
   ]
  },
  {
   "cell_type": "code",
   "execution_count": 10,
   "metadata": {
    "collapsed": false
   },
   "outputs": [
    {
     "data": {
      "image/png": "[encoded data removed]",
      "text/plain": [
       "<matplotlib.figure.Figure at 0x11102d400>"
      ]
     },
     "metadata": {},
     "output_type": "display_data"
    }
   ],
   "source": [
    "plt.plot(tf[:10, :].toarray().T);\n"
   ]
  },
  {
   "cell_type": "markdown",
   "metadata": {},
   "source": [
    "### Create training set\n",
    "We split the whole documents into training and test sets. The number of tokens in the training set is 610K. Sparsity of the term-frequency document matrix is 0.016%, which implies almost all components in the term-frequency matrix is zero."
   ]
  },
  {
   "cell_type": "code",
   "execution_count": 11,
   "metadata": {
    "collapsed": false
   },
   "outputs": [
    {
     "name": "stdout",
     "output_type": "stream",
     "text": [
      "Number of docs for training = 10000\n",
      "Number of docs for test = 1314\n",
      "Number of tokens in training set = 610099\n",
      "Sparsity = 0.01677095\n"
     ]
    }
   ],
   "source": [
    "n_samples_tr = 10000\n",
    "n_samples_te = tf.shape[0] - n_samples_tr\n",
    "docs_tr = tf[:n_samples_tr, :]\n",
    "docs_te = tf[n_samples_tr:, :]\n",
    "print('Number of docs for training = {}'.format(docs_tr.shape[0]))\n",
    "print('Number of docs for test = {}'.format(docs_te.shape[0]))\n",
    "\n",
    "n_tokens = np.sum(docs_tr[docs_tr.nonzero()])\n",
    "print('Number of tokens in training set = {}'.format(n_tokens))\n",
    "print('Sparsity = {}'.format(\n",
    "    len(docs_tr.nonzero()[0]) / float(docs_tr.shape[0] * docs_tr.shape[1])))"
   ]
  },
  {
   "cell_type": "markdown",
   "metadata": {},
   "source": [
    "### Log-likelihood of documents for LDA\n",
    "For a document dd consisting of tokens *w*, the log-likelihood of the LDA model with *K* topics is given as\n",
    "$$\\begin{eqnarray}\n",
    "    \\log p\\left(d|\\theta_{d},\\beta\\right) & = & \\sum_{w\\in d}\\log\\left[\\sum_{k=1}^{K}\\exp\\left(\\log\\theta_{d,k} + \\log \\beta_{k,w}\\right)\\right]+const,\n",
    "\\end{eqnarray}$$"
   ]
  },
  {
   "cell_type": "code",
   "execution_count": 12,
   "metadata": {
    "collapsed": true
   },
   "outputs": [],
   "source": [
    "def logp_lda_doc(beta, theta):\n",
    "    \"\"\"Returns the log-likelihood function for given documents.\n",
    "\n",
    "    K : number of topics in the model\n",
    "    V : number of words (size of vocabulary)\n",
    "    D : number of documents (in a mini-batch)\n",
    "\n",
    "    Parameters\n",
    "    ----------\n",
    "    beta : tensor (K x V)\n",
    "        Word distributions.\n",
    "    theta : tensor (D x K)\n",
    "        Topic distributions for documents.\n",
    "    \"\"\"\n",
    "    def ll_docs_f(docs):\n",
    "        dixs, vixs = docs.nonzero()\n",
    "        vfreqs = docs[dixs, vixs]\n",
    "        ll_docs = vfreqs * pm.math.logsumexp(\n",
    "            tt.log(theta[dixs]) + tt.log(beta.T[vixs]), axis=1).ravel()\n",
    "\n",
    "        # Per-word log-likelihood times num of tokens in the whole dataset\n",
    "        return tt.sum(ll_docs) / tt.sum(vfreqs) * n_tokens\n",
    "\n",
    "    return ll_docs_f"
   ]
  },
  {
   "cell_type": "markdown",
   "metadata": {},
   "source": [
    "In the inner function, the log-likelihood is scaled for mini-batches by the number of tokens in the dataset."
   ]
  },
  {
   "cell_type": "markdown",
   "metadata": {},
   "source": [
    "With the log-likelihood function, we can construct the probabilistic model for LDA. doc_t works as a placeholder to which documents in a mini-batch are set.\n",
    "\n",
    "For ADVI, each of random variables $θ$ and $β$, drawn from Dirichlet distributions, is transformed into unconstrained real coordinate space. To do this, by default, PyMC3 uses a centered stick-breaking transformation. Since these random variables are on a simplex, the dimension of the unconstrained coordinate space is the original dimension minus 1. For example, the dimension of $θ_d$ is the number of topics *(n_topics)* in the LDA model, thus the transformed space has dimension *(n_topics - 1)*. It shuold be noted that, in this example, we use *t_stick_breaking*, which is a numerically stable version of stick_breaking used by default. This is required to work ADVI for the LDA model.\n",
    "\n",
    "The variational posterior on these transformed parameters is represented by a spherical Gaussian distributions *(meanfield approximation)*. Thus, the number of variational parameters of $θ_d$, the latent variable for each document, is *2 * (n_topics - 1)* for means and standard deviations.\n",
    "\n",
    "In the last line of the below cell, *DensityDist* class is used to define the log-likelihood function of the model. The second argument is a Python function which takes observations (a document matrix in this example) and returns the log-likelihood value. This function is given as a return value of *logp_lda_doc(beta, theta)*, which has been defined above."
   ]
  },
  {
   "cell_type": "code",
   "execution_count": 13,
   "metadata": {
    "collapsed": false
   },
   "outputs": [
    {
     "name": "stderr",
     "output_type": "stream",
     "text": [
      "Applied stickbreaking-transform to theta and added transformed theta_stickbreaking_ to model.\n",
      "Applied stickbreaking-transform to beta and added transformed beta_stickbreaking_ to model.\n"
     ]
    }
   ],
   "source": [
    "n_topics = 10\n",
    "minibatch_size = 128\n",
    "\n",
    "# Tensor for documents\n",
    "doc_t = shared(np.zeros((minibatch_size, n_words)).astype('float32'), name='doc_t')\n",
    "\n",
    "with pm.Model() as model:\n",
    "    theta = Dirichlet('theta', a=(1.0 / n_topics) * np.ones((minibatch_size, n_topics)).astype('float32'),\n",
    "                      shape=(minibatch_size, n_topics), transform=t_stick_breaking(1e-9))\n",
    "    beta = Dirichlet('beta', a=(1.0 / n_topics) * np.ones((n_topics, n_words)).astype('float32'),\n",
    "                     shape=(n_topics, n_words), transform=t_stick_breaking(1e-9))\n",
    "    doc = pm.DensityDist('doc', logp_lda_doc(beta, theta), observed=doc_t)"
   ]
  },
  {
   "cell_type": "code",
   "execution_count": 14,
   "metadata": {
    "collapsed": true
   },
   "outputs": [],
   "source": [
    "def create_minibatch(data):\n",
    "    rng = np.random.RandomState(0)\n",
    "\n",
    "    while True:\n",
    "        # Return random data samples of a size 'minibatch_size' at each iteration\n",
    "        ixs = rng.randint(data.shape[0], size=minibatch_size)\n",
    "        yield [data[ixs]]\n",
    "\n",
    "minibatches = create_minibatch(docs_tr.toarray().astype('float32'))"
   ]
  },
  {
   "cell_type": "code",
   "execution_count": 15,
   "metadata": {
    "collapsed": true
   },
   "outputs": [],
   "source": [
    "# The value of doc_t will be replaced with mini-batches\n",
    "minibatch_tensors = [doc_t]"
   ]
  },
  {
   "cell_type": "code",
   "execution_count": 16,
   "metadata": {
    "collapsed": true
   },
   "outputs": [],
   "source": [
    "\n",
    "# observed_RVs = OrderedDict([(doc, n_samples_tr / minibatch_size)])\n",
    "observed_RVs = OrderedDict([(doc, 1)])"
   ]
  },
  {
   "cell_type": "markdown",
   "metadata": {},
   "source": [
    "### Encoder\n",
    "\n",
    "Given a document, the encoder calculates variational parameters of the (transformed) latent variables, more specifically, parameters of Gaussian distributions in the unconstrained real coordinate space. \n",
    "`encode()` method is required to output variational means and stds as a tuple, as shown in the following code. As explained above, the number of variational parameters is `2 * (n_topics) - 1`. Specifically, the shape of `zs_mean`(or `zs_std`) in the method is `(minibatch_size, n_topics - 1)`. It should be noted that `zs_std` is defined as log-transformed standard deviation and this is automatically exponentiated (or bounded to be positive) in `advi_minibatch()`, the estimation function. \n",
    "\n",
    "To enhance generalization ability to unseen words, a Bernoulli corruption process is applied to the inputted documents. Unfortunately, I've never seen any significant improvement with this. \n"
   ]
  },
  {
   "cell_type": "code",
   "execution_count": 17,
   "metadata": {
    "collapsed": true
   },
   "outputs": [],
   "source": [
    "class LDAEncoder:\n",
    "    \"\"\"Encode (term-frequency) document vectors to variational\n",
    "    means and (log-transformed) stds.\n",
    "    \"\"\"\n",
    "    def __init__(self, n_words, n_hidden, n_topics, p_corruption=0,random_seed=1):\n",
    "        rng = np.random.RandomState(random_seed)\n",
    "        self.n_words = n_words\n",
    "        self.n_hidden = n_hidden\n",
    "        self.n_topics = n_topics\n",
    "        self.w0 = shared(0.01 * rng.randn(n_words, n_hidden).ravel(), name='w0')\n",
    "        self.b0 = shared(0.01 * rng.randn(n_hidden), name='b0')\n",
    "        self.w1 = shared(0.01 * rng.randn(n_hidden, 2 * (n_topics - 1)).ravel(), name='w1')\n",
    "        self.b1 = shared(0.01 * rng.randn(2 * (n_topics - 1)), name='b1')\n",
    "        self.rng = MRG_RandomStreams(seed=random_seed)\n",
    "        self.p_corruption = p_corruption\n",
    "\n",
    "    def encode(self, xs):\n",
    "        if 0 < self.p_corruption:\n",
    "            dixs, vixs = xs.nonzero()\n",
    "            mask = tt.set_subtensor(\n",
    "                tt.zeros_like(xs)[dixs, vixs],\n",
    "                self.rng.binomial(size=dixs.shape, n=1, p=1-self.p_corruption)\n",
    "            )\n",
    "            xs_ = xs * mask\n",
    "        else:\n",
    "            xs_ = xs\n",
    "\n",
    "        w0 = self.w0.reshape((self.n_words, self.n_hidden))\n",
    "        w1 = self.w1.reshape((self.n_hidden, 2 * (self.n_topics - 1)))\n",
    "        hs = tt.tanh(xs_.dot(w0) + self.b0)\n",
    "        zs = hs.dot(w1) + self.b1\n",
    "        zs_mean = zs[:, :(self.n_topics - 1)]\n",
    "        zs_std = zs[:, (self.n_topics - 1):]\n",
    "        return zs_mean, zs_std\n",
    "\n",
    "    def get_params(self):\n",
    "        return [self.w0, self.b0, self.w1, self.b1]"
   ]
  },
  {
   "cell_type": "markdown",
   "metadata": {},
   "source": [
    "To feed the output of the encoder to the variational parameters of $\\theta$, we set an OrderedDict of tuples as below."
   ]
  },
  {
   "cell_type": "code",
   "execution_count": 18,
   "metadata": {
    "collapsed": true
   },
   "outputs": [],
   "source": [
    "encoder = LDAEncoder(n_words=n_words, n_hidden=100, n_topics=n_topics, p_corruption=0.0)\n",
    "local_RVs = OrderedDict([(theta, (encoder.encode(doc_t), n_samples_tr / minibatch_size))])"
   ]
  },
  {
   "cell_type": "markdown",
   "metadata": {},
   "source": [
    "theta is the random variable defined in the model creation and is a key of an entry of the OrderedDict. The value (encoder.encode(doc_t), n_samples_tr / minibatch_size) is a tuple of a theano expression and a scalar. The theano expression encoder.encode(doc_t) is the output of the encoder given inputs (documents). The scalar n_samples_tr / minibatch_size specifies the scaling factor for mini-batches.\n",
    "\n",
    "ADVI optimizes the parameters of the encoder. They are passed to the function for ADVI."
   ]
  },
  {
   "cell_type": "code",
   "execution_count": 19,
   "metadata": {
    "collapsed": true
   },
   "outputs": [],
   "source": [
    "encoder_params = encoder.get_params()"
   ]
  },
  {
   "cell_type": "markdown",
   "metadata": {},
   "source": [
    "### AEVB with ADVI\n",
    "`advi_minibatch()` can be used to run AEVB with ADVI on the LDA model."
   ]
  },
  {
   "cell_type": "code",
   "execution_count": null,
   "metadata": {
    "collapsed": true
   },
   "outputs": [],
   "source": []
  },
  {
   "cell_type": "code",
   "execution_count": 20,
   "metadata": {
    "collapsed": false
   },
   "outputs": [
    {
     "name": "stdout",
     "output_type": "stream",
     "text": [
      "Iteration 0 [0%]: ELBO = -5106022.06\n",
      "Iteration 100 [10%]: Average ELBO = -4970940.17\n",
      "Iteration 200 [20%]: Average ELBO = -4865653.49\n",
      "Iteration 300 [30%]: Average ELBO = -4802046.33\n",
      "Iteration 400 [40%]: Average ELBO = -4771597.28\n",
      "Iteration 500 [50%]: Average ELBO = -4749812.94\n",
      "Iteration 600 [60%]: Average ELBO = -4759441.7\n",
      "Iteration 700 [70%]: Average ELBO = -4740283.94\n",
      "Iteration 800 [80%]: Average ELBO = -4744738.79\n",
      "Iteration 900 [90%]: Average ELBO = -4740387.56\n",
      "Finished [100%]: ELBO = -4667604.67\n",
      "CPU times: user 1min 33s, sys: 5.36 s, total: 1min 38s\n",
      "Wall time: 30.4 s\n"
     ]
    }
   ],
   "source": [
    "def run_advi():\n",
    "    with model:\n",
    "        v_params = pm.variational.advi_minibatch(\n",
    "            n=1000, minibatch_tensors=minibatch_tensors, minibatches=minibatches,\n",
    "            local_RVs=local_RVs, observed_RVs=observed_RVs, encoder_params=encoder_params,\n",
    "            learning_rate=1e-2, epsilon=0.1, n_mcsamples=1\n",
    "        )\n",
    "\n",
    "    return v_params\n",
    "\n",
    "%time v_params = run_advi()\n",
    "\n"
   ]
  },
  {
   "cell_type": "code",
   "execution_count": 21,
   "metadata": {
    "collapsed": false
   },
   "outputs": [
    {
     "data": {
      "text/plain": [
       "[<matplotlib.lines.Line2D at 0x120458dd8>]"
      ]
     },
     "execution_count": 21,
     "metadata": {},
     "output_type": "execute_result"
    },
    {
     "data": {
      "image/png": "[encoded data removed]",
      "text/plain": [
       "<matplotlib.figure.Figure at 0x11ebebc88>"
      ]
     },
     "metadata": {},
     "output_type": "display_data"
    }
   ],
   "source": [
    "plt.plot(v_params.elbo_vals)"
   ]
  },
  {
   "cell_type": "markdown",
   "metadata": {},
   "source": [
    "### Extraction of characteristic words of topics based on posterior samples\n",
    "By using estimated variational parameters, we can draw samples from the variational posterior. To do this, we use function `sample_vp()`. Here we use this function to obtain posterior mean of the word-topic distribution β and show top-20 words frequently appeared in the 10 topics."
   ]
  },
  {
   "cell_type": "code",
   "execution_count": 22,
   "metadata": {
    "collapsed": false
   },
   "outputs": [
    {
     "name": "stderr",
     "output_type": "stream",
     "text": [
      "100%|██████████| 100/100 [00:00<00:00, 314.92it/s]"
     ]
    },
    {
     "name": "stdout",
     "output_type": "stream",
     "text": [
      "Topic #0: people like time just don think year say know use way good right years ve new said want did make\n",
      "Topic #1: new know just like don 10 people use does work ve used time year years think good way right say\n",
      "Topic #2: people like just think god way believe know say did make good don time want government ve years does said\n",
      "Topic #3: like people know good don use does just time new need work problem used really think say ve right want\n",
      "Topic #4: like use windows does just don thanks program work using want used need time know problem edu ve way window\n",
      "Topic #5: use like does using want know used windows time mail work new don software available ve com just edu number\n",
      "Topic #6: just think people good don does know say like time way right said things believe government god did years fact\n",
      "Topic #7: like edu use new just don year used think time ve know thanks good work years mail want make team\n",
      "Topic #8: don like just know does think people good make right time new use god did going way say used believe\n",
      "Topic #9: think don time like new year people just use good years ve used way right know better want edu make\n"
     ]
    },
    {
     "name": "stderr",
     "output_type": "stream",
     "text": [
      "\n"
     ]
    }
   ],
   "source": [
    "def print_top_words(beta, feature_names, n_top_words=20):\n",
    "    for i in range(len(beta)):\n",
    "        print((\"Topic #%d: \" % i) + \" \".join([feature_names[j]\n",
    "            for j in beta[i].argsort()[:-n_top_words - 1:-1]]))\n",
    "\n",
    "doc_t.set_value(docs_te.toarray().astype('float32')[:minibatch_size, :])\n",
    "\n",
    "with model:\n",
    "    samples = sample_vp(v_params, draws=100, local_RVs=local_RVs)\n",
    "    beta_pymc3 = samples['beta'].mean(axis=0)\n",
    "\n",
    "print_top_words(beta_pymc3, feature_names)"
   ]
  },
  {
   "cell_type": "markdown",
   "metadata": {},
   "source": [
    "We compare these topics to those obtained by a standard LDA implementation on scikit-learn, which is based on an online stochastic variational inference (Hoffman et al., 2013). We can see that estimated words in the topics are qualitatively similar."
   ]
  },
  {
   "cell_type": "code",
   "execution_count": 23,
   "metadata": {
    "collapsed": false
   },
   "outputs": [
    {
     "name": "stdout",
     "output_type": "stream",
     "text": [
      "CPU times: user 15.1 s, sys: 150 ms, total: 15.3 s\n",
      "Wall time: 14.6 s\n",
      "Topic #0: president armenian mr said turkish armenians people government russian war stephanopoulos american new states year health april million 000 years\n",
      "Topic #1: key law government gun use people encryption public chip state israel right rights clipper security keys used israeli guns number\n",
      "Topic #2: god people jesus said believe bible did life say man christian church jews does faith religion christ christians world children\n",
      "Topic #3: 10 25 db 17 11 14 16 12 15 20 24 18 13 27 19 21 34 23 cx 28\n",
      "Topic #4: ax max g9v b8f a86 pl 75u 1t 145 bhj 1d9 giz 2di 3t 34u 2tm 7ey 0d 6um 0t\n",
      "Topic #5: edu space com information mail available list data send 1993 file nasa research ftp email anonymous internet address pub university\n",
      "Topic #6: don just like think know people time ve good way does say make want really going did things point work\n",
      "Topic #7: 00 car new price 50 power good 000 used 10 bike buy sale 100 20 offer cars old ground sell\n",
      "Topic #8: team game year games season play hockey players league good win player teams nhl got time points hit better runs\n",
      "Topic #9: use windows file drive using window does program thanks card bit scsi dos disk software mac pc version files color\n"
     ]
    }
   ],
   "source": [
    "from sklearn.decomposition import LatentDirichletAllocation\n",
    "\n",
    "lda = LatentDirichletAllocation(n_topics=n_topics, max_iter=5,\n",
    "                                learning_method='online', learning_offset=50.,\n",
    "                                random_state=0)\n",
    "%time lda.fit(docs_tr)\n",
    "beta_sklearn = lda.components_ / lda.components_.sum(axis=1)[:, np.newaxis]\n",
    "\n",
    "print_top_words(beta_sklearn, feature_names)"
   ]
  },
  {
   "cell_type": "markdown",
   "metadata": {},
   "source": [
    "### Model evaluation\n",
    "* See the documentation it's very good. [Documentation](https://pymc-devs.github.io/pymc3/notebooks/lda-advi-aevb.html)"
   ]
  },
  {
   "cell_type": "markdown",
   "metadata": {
    "collapsed": true
   },
   "source": [
    "### Variational Inference\n",
    "\n",
    "Angelino, Elaine, Matthew James Johnson, and Ryan P. Adams. \"[Patterns of Scalable Bayesian Inference](https://arxiv.org/pdf/1602.05221v2.pdf).\" arXiv preprint arXiv:1602.05221 (2016).\n",
    "\n",
    "Blei, David M., Alp Kucukelbir, and Jon D. McAuliffe. \"[Variational inference: A review for statisticians](http://arxiv.org/pdf/1601.00670).\" arXiv preprint arXiv:1601.00670 (2016).\n",
    "\n",
    "Kucukelbir, Alp, et al. \"[Automatic Differentiation Variational Inference](https://arxiv.org/pdf/1603.00788.pdf).\" arXiv preprint arXiv:1603.00788 (2016).\n",
    "\n",
    "Ranganath, Rajesh, Sean Gerrish, and David M. Blei. \"[Black Box Variational Inference]((http://www.cs.columbia.edu/~blei/papers/RanganathGerrishBlei2014.pdf).\" AISTATS. 2014."
   ]
  },
  {
   "cell_type": "markdown",
   "metadata": {},
   "source": [
    "### Models and Methods\n",
    "Diederik P Kingma and Max Welling \"[Auto-Encoding Variational Bayes](https://arxiv.org/abs/1312.6114).\"\tarXiv preprint arXiv:1312.6114 (2014).\n",
    "\n",
    "Blei,David M. et al. \"[Latent Dirichlet Allocation](https://www.cs.princeton.edu/~blei/papers/BleiNgJordan2003.pdf).\" Journal of Machine Learning Research 3 (2003) 993-1022\n",
    "\n",
    "Hoffman, M. D., Blei, D. M., Wang, C., & Paisley, J. W. (2013). Stochastic variational inference. Journal of Machine Learning Research, 14(1), 1303-1347."
   ]
  }
 ],
 "metadata": {
  "anaconda-cloud": {},
  "kernelspec": {
   "display_name": "Python [conda env:pymc3_dev]",
   "language": "python",
   "name": "conda-env-pymc3_dev-py"
  },
  "language_info": {
   "codemirror_mode": {
    "name": "ipython",
    "version": 3
   },
   "file_extension": ".py",
   "mimetype": "text/x-python",
   "name": "python",
   "nbconvert_exporter": "python",
   "pygments_lexer": "ipython3",
   "version": "3.5.2"
  }
 },
 "nbformat": 4,
 "nbformat_minor": 1
}
